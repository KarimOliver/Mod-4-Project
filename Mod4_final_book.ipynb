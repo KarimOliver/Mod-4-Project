{
 "cells": [
  {
   "cell_type": "code",
   "execution_count": 52,
   "metadata": {},
   "outputs": [],
   "source": [
    "import pandas as pd\n",
    "import numpy as np\n",
    "import matplotlib.pyplot as plt\n",
    "%matplotlib inline\n",
    "import tensorflow as tf\n",
    "from tensorflow import keras\n",
    "from tensorflow.keras.models import Sequential\n",
    "from tensorflow.keras.layers import Dense\n",
    "\n",
    "\n",
    "from tensorflow.keras.preprocessing.image import ImageDataGenerator, array_to_img, load_img\n",
    "\n",
    "from tensorflow.keras.layers import Conv2D, MaxPooling2D\n",
    "from tensorflow.keras.layers import Activation, Dropout, Flatten, Dense\n",
    "from tensorflow.keras import regularizers "
   ]
  },
  {
   "cell_type": "code",
   "execution_count": null,
   "metadata": {},
   "outputs": [],
   "source": []
  },
  {
   "cell_type": "code",
   "execution_count": 2,
   "metadata": {},
   "outputs": [],
   "source": [
    "from tensorflow.keras.preprocessing.image import ImageDataGenerator, img_to_array, load_img"
   ]
  },
  {
   "cell_type": "markdown",
   "metadata": {},
   "source": [
    "First, I imported all of the libraries I was thinking about using ended up not needing all of them. \n",
    "As of August 2nd, tensorflow does not work with Python 3.8 so make sure that you are using \n",
    "3.7 for compatability. "
   ]
  },
  {
   "cell_type": "code",
   "execution_count": 16,
   "metadata": {},
   "outputs": [
    {
     "name": "stdout",
     "output_type": "stream",
     "text": [
      "Found 5217 images belonging to 2 classes.\n",
      "Found 624 images belonging to 2 classes.\n",
      "Found 16 images belonging to 2 classes.\n"
     ]
    }
   ],
   "source": [
    "Generator = ImageDataGenerator(rescale = 1/.255)\n",
    "\n",
    "train_gen = Generator.flow_from_directory('data/chest_xray/train',\n",
    "            target_size = (150, 150),\n",
    "            class_mode = 'binary',\n",
    "            color_mode='grayscale'\n",
    "            )\n",
    "\n",
    "test_gen =  Generator.flow_from_directory('data/chest_xray/test',\n",
    "            target_size = (150, 150),\n",
    "            class_mode = 'binary',\n",
    "            color_mode='grayscale'\n",
    "         )\n",
    "\n",
    "val_gen = Generator.flow_from_directory('data/chest_xray/val',\n",
    "            target_size = (150, 150),\n",
    "            class_mode = 'binary',\n",
    "            color_mode='grayscale'\n",
    "            )\n",
    "\n",
    "\n"
   ]
  },
  {
   "cell_type": "markdown",
   "metadata": {},
   "source": [
    "I then created a directory and imported the images from my computer into the directory. Next,\n",
    "I created a train generator, a test generator, and a validation generator and imported the images from \n",
    "the directory into the corresponding generator. "
   ]
  },
  {
   "cell_type": "code",
   "execution_count": 18,
   "metadata": {},
   "outputs": [],
   "source": [
    "\n",
    "\n",
    "baseline_m = Sequential()\n",
    "\n",
    "baseline_m.add(Dense(75, activation='relu', input_shape =(150, 150, 1)))\n",
    "baseline_m.add(Dense(25, activation='relu')) \n",
    "baseline_m.add(Flatten())\n",
    "baseline_m.add(Dense(1, activation='sigmoid'))\n",
    "\n",
    "baseline_m.compile(loss='binary_crossentropy',\n",
    "              optimizer='adam',\n",
    "              metrics=['Accuracy',\n",
    "            tf.keras.metrics.Precision(),\n",
    "            tf.keras.metrics.Recall()])"
   ]
  },
  {
   "cell_type": "markdown",
   "metadata": {},
   "source": [
    "Here, I created my baseline model. I guess you could argue I 75 is a pretty large number\n",
    "to start a baseline with, but given the scope of the data I wanted to make sure I started large. \n",
    "I used relu and sigmoid, two of the most basic activation tools. I also used Adam as \n",
    "an optimizer, binary crossentropy, since since every collection of images was divided into \n",
    "two categories: PNEUMONIA and NORMAL. Lastly, I calculated for accuracy, precision and recall. "
   ]
  },
  {
   "cell_type": "code",
   "execution_count": 12,
   "metadata": {},
   "outputs": [],
   "source": [
    "steps_per_epoch = len(train_gen)\n",
    "validation_steps = len(val_gen)"
   ]
  },
  {
   "cell_type": "code",
   "execution_count": 19,
   "metadata": {},
   "outputs": [
    {
     "name": "stdout",
     "output_type": "stream",
     "text": [
      "Epoch 1/10\n",
      "164/164 [==============================] - 184s 1s/step - loss: 373.2800 - accuracy: 0.8313 - precision_4: 0.8945 - recall_4: 0.8880 - val_loss: 31.0073 - val_accuracy: 0.6875 - val_precision_4: 0.6667 - val_recall_4: 1.0000\n",
      "Epoch 2/10\n",
      "164/164 [==============================] - 106s 644ms/step - loss: 3.7383 - accuracy: 0.9114 - precision_4: 0.9556 - recall_4: 0.9551 - val_loss: 1.8732 - val_accuracy: 0.8750 - val_precision_4: 0.8889 - val_recall_4: 1.0000\n",
      "Epoch 3/10\n",
      "164/164 [==============================] - 108s 659ms/step - loss: 2.7415 - accuracy: 0.8750 - precision_4: 0.9455 - recall_4: 0.9492 - val_loss: 6.7233 - val_accuracy: 0.5000 - val_precision_4: 0.5333 - val_recall_4: 1.0000\n",
      "Epoch 4/10\n",
      "164/164 [==============================] - 109s 663ms/step - loss: 0.3496 - accuracy: 0.0119 - precision_4: 0.9044 - recall_4: 0.9301 - val_loss: 0.6442 - val_accuracy: 0.0000e+00 - val_precision_4: 0.6154 - val_recall_4: 1.0000\n",
      "Epoch 5/10\n",
      "164/164 [==============================] - 108s 656ms/step - loss: 0.2653 - accuracy: 7.6672e-04 - precision_4: 0.9140 - recall_4: 0.9489 - val_loss: 0.5205 - val_accuracy: 0.0000e+00 - val_precision_4: 0.7273 - val_recall_4: 1.0000\n",
      "Epoch 6/10\n",
      "164/164 [==============================] - 107s 650ms/step - loss: 0.2272 - accuracy: 3.8336e-04 - precision_4: 0.9349 - recall_4: 0.9523 - val_loss: 0.4516 - val_accuracy: 0.0000e+00 - val_precision_4: 0.8000 - val_recall_4: 1.0000\n",
      "Epoch 7/10\n",
      "164/164 [==============================] - 106s 644ms/step - loss: 0.1822 - accuracy: 0.0033 - precision_4: 0.9470 - recall_4: 0.9634 - val_loss: 0.3106 - val_accuracy: 0.0000e+00 - val_precision_4: 0.8889 - val_recall_4: 1.0000\n",
      "Epoch 8/10\n",
      "164/164 [==============================] - 114s 695ms/step - loss: 0.1493 - accuracy: 7.6672e-04 - precision_4: 0.9569 - recall_4: 0.9628 - val_loss: 0.2804 - val_accuracy: 0.0000e+00 - val_precision_4: 0.8889 - val_recall_4: 1.0000\n",
      "Epoch 9/10\n",
      "164/164 [==============================] - 107s 651ms/step - loss: 0.1457 - accuracy: 9.5841e-04 - precision_4: 0.9592 - recall_4: 0.9654 - val_loss: 0.7417 - val_accuracy: 0.0000e+00 - val_precision_4: 0.6154 - val_recall_4: 1.0000\n",
      "Epoch 10/10\n",
      "164/164 [==============================] - 106s 644ms/step - loss: 0.1366 - accuracy: 0.0023 - precision_4: 0.9628 - recall_4: 0.9675 - val_loss: 0.2633 - val_accuracy: 0.0000e+00 - val_precision_4: 0.8889 - val_recall_4: 1.0000\n"
     ]
    }
   ],
   "source": [
    "baseline_m = baseline_m.fit_generator(\n",
    "        train_gen,\n",
    "        validation_data = val_gen,\n",
    "        validation_steps = validation_steps,\n",
    "        epochs=10)"
   ]
  },
  {
   "cell_type": "markdown",
   "metadata": {},
   "source": [
    "This took about 10 minutes to run. "
   ]
  },
  {
   "cell_type": "code",
   "execution_count": 22,
   "metadata": {},
   "outputs": [
    {
     "name": "stdout",
     "output_type": "stream",
     "text": [
      "20/20 [==============================] - 9s 457ms/step - loss: 0.6505 - accuracy: 0.0000e+00 - precision_4: 0.7451 - recall_4: 0.9821\n"
     ]
    },
    {
     "data": {
      "text/plain": [
       "[('loss', 0.650493997335434),\n",
       " ('accuracy', 0.0),\n",
       " ('precision_4', 0.7451362),\n",
       " ('recall_4', 0.98205125)]"
      ]
     },
     "execution_count": 22,
     "metadata": {},
     "output_type": "execute_result"
    }
   ],
   "source": [
    "acc = baseline_m.model.evaluate_generator(test_gen, steps=len(test_gen), verbose=1)\n",
    "list(zip(baseline_m.model.metrics_names,acc))"
   ]
  },
  {
   "cell_type": "markdown",
   "metadata": {},
   "source": [
    "Here is a report of the scores. As you can see the accuracy is zero, which is a major problem.  "
   ]
  },
  {
   "cell_type": "code",
   "execution_count": 23,
   "metadata": {},
   "outputs": [],
   "source": [
    "def visualize_training_results(results):\n",
    "    history = results.history\n",
    "    plt.figure()\n",
    "    plt.plot(history['val_loss'])\n",
    "    plt.plot(history['loss'])\n",
    "    plt.legend(['val_loss', 'loss'])\n",
    "    plt.title('Loss')\n",
    "    plt.xlabel('Epochs')\n",
    "    plt.ylabel('Loss')\n",
    "    plt.show()\n",
    "    \n",
    "    plt.figure()\n",
    "    plt.plot(history['val_accuracy'])\n",
    "    plt.plot(history['accuracy'])\n",
    "    plt.legend(['val_accuracy', 'accuracy'])\n",
    "    plt.title('accuracy')\n",
    "    plt.xlabel('Epochs')\n",
    "    plt.ylabel('accuracy')\n",
    "    plt.show()"
   ]
  },
  {
   "cell_type": "code",
   "execution_count": 24,
   "metadata": {},
   "outputs": [
    {
     "data": {
      "image/png": "[encoded data removed]",
      "text/plain": [
       "<Figure size 432x288 with 1 Axes>"
      ]
     },
     "metadata": {
      "needs_background": "light"
     },
     "output_type": "display_data"
    },
    {
     "data": {
      "image/png": "[encoded data removed]",
      "text/plain": [
       "<Figure size 432x288 with 1 Axes>"
      ]
     },
     "metadata": {
      "needs_background": "light"
     },
     "output_type": "display_data"
    }
   ],
   "source": [
    "visualize_training_results(baseline_m)"
   ]
  },
  {
   "cell_type": "markdown",
   "metadata": {},
   "source": [
    "Here is a simple plot of my baseline model. Obviously there is a lot of room for improvement. "
   ]
  },
  {
   "cell_type": "code",
   "execution_count": 30,
   "metadata": {},
   "outputs": [],
   "source": [
    "\n",
    "attempt_1 = Sequential() \n",
    "attempt_1.add(Conv2D(32, (3, 3), activation='relu', padding='same', input_shape=(150, 150, 1))) \n",
    "attempt_1.add(MaxPooling2D((2, 2))) \n",
    "attempt_1.add(Flatten()) \n",
    "attempt_1.add(Dense(75, activation='tanh'))\n",
    "attempt_1.add(Dense(50, activation='tanh'))\n",
    "attempt_1.add(Dense(25, activation='tanh'))\n",
    "attempt_1.add(Dense(1, activation='softmax'))\n",
    "\n",
    "attempt_1.compile(loss='binary_crossentropy',\n",
    "              optimizer='RMSprop',\n",
    "              metrics=['Accuracy',\n",
    "            tf.keras.metrics.Precision(),\n",
    "            tf.keras.metrics.Recall()])"
   ]
  },
  {
   "cell_type": "markdown",
   "metadata": {},
   "source": [
    "In hindsight this was probably a mistake, but I panicked a bit, and decided to change nearly \n",
    "everything about my baseline model, given how bad the accuracy score was. I also, wanted to create a \n",
    "pretty big model, given the scope of the dataset, so I added a Convolution layer and a Max pooling layer.\n",
    "I also added a another Dense layer, though I kept the same metrics to calculate"
   ]
  },
  {
   "cell_type": "code",
   "execution_count": 31,
   "metadata": {},
   "outputs": [],
   "source": [
    "steps_per_epoch = len(train_gen)\n",
    "validation_steps = len(val_gen)"
   ]
  },
  {
   "cell_type": "code",
   "execution_count": 32,
   "metadata": {},
   "outputs": [
    {
     "name": "stdout",
     "output_type": "stream",
     "text": [
      "Epoch 1/10\n",
      "164/164 [==============================] - 92s 562ms/step - loss: 3.9182 - accuracy: 0.7430 - precision_6: 0.7430 - recall_6: 1.0000 - val_loss: 7.6666 - val_accuracy: 0.5000 - val_precision_6: 0.5000 - val_recall_6: 1.0000\n",
      "Epoch 2/10\n",
      "164/164 [==============================] - 89s 543ms/step - loss: 4.0082 - accuracy: 0.7430 - precision_6: 0.7430 - recall_6: 1.0000 - val_loss: 7.6666 - val_accuracy: 0.5000 - val_precision_6: 0.5000 - val_recall_6: 1.0000\n",
      "Epoch 3/10\n",
      "164/164 [==============================] - 89s 541ms/step - loss: 4.0082 - accuracy: 0.7430 - precision_6: 0.7430 - recall_6: 1.0000 - val_loss: 7.6666 - val_accuracy: 0.5000 - val_precision_6: 0.5000 - val_recall_6: 1.0000\n",
      "Epoch 4/10\n",
      "164/164 [==============================] - 88s 539ms/step - loss: 3.9182 - accuracy: 0.7430 - precision_6: 0.7430 - recall_6: 1.0000 - val_loss: 7.6666 - val_accuracy: 0.5000 - val_precision_6: 0.5000 - val_recall_6: 1.0000\n",
      "Epoch 5/10\n",
      "164/164 [==============================] - 88s 537ms/step - loss: 4.0082 - accuracy: 0.7430 - precision_6: 0.7430 - recall_6: 1.0000 - val_loss: 7.6666 - val_accuracy: 0.5000 - val_precision_6: 0.5000 - val_recall_6: 1.0000\n",
      "Epoch 6/10\n",
      "164/164 [==============================] - 90s 548ms/step - loss: 4.0082 - accuracy: 0.7430 - precision_6: 0.7430 - recall_6: 1.0000 - val_loss: 7.6666 - val_accuracy: 0.5000 - val_precision_6: 0.5000 - val_recall_6: 1.0000\n",
      "Epoch 7/10\n",
      "164/164 [==============================] - 89s 543ms/step - loss: 3.9182 - accuracy: 0.7430 - precision_6: 0.7430 - recall_6: 1.0000 - val_loss: 7.6666 - val_accuracy: 0.5000 - val_precision_6: 0.5000 - val_recall_6: 1.0000\n",
      "Epoch 8/10\n",
      "164/164 [==============================] - 97s 590ms/step - loss: 4.0082 - accuracy: 0.7430 - precision_6: 0.7430 - recall_6: 1.0000 - val_loss: 7.6666 - val_accuracy: 0.5000 - val_precision_6: 0.5000 - val_recall_6: 1.0000\n",
      "Epoch 9/10\n",
      "164/164 [==============================] - 95s 578ms/step - loss: 3.9182 - accuracy: 0.7430 - precision_6: 0.7430 - recall_6: 1.0000 - val_loss: 7.6666 - val_accuracy: 0.5000 - val_precision_6: 0.5000 - val_recall_6: 1.0000\n",
      "Epoch 10/10\n",
      "164/164 [==============================] - 106s 649ms/step - loss: 4.0082 - accuracy: 0.7430 - precision_6: 0.7430 - recall_6: 1.0000 - val_loss: 7.6666 - val_accuracy: 0.5000 - val_precision_6: 0.5000 - val_recall_6: 1.0000\n"
     ]
    }
   ],
   "source": [
    "attempt_1 = attempt_1.fit_generator(\n",
    "        train_gen,\n",
    "        validation_data = val_gen,\n",
    "        validation_steps = validation_steps,\n",
    "        epochs=10)"
   ]
  },
  {
   "cell_type": "code",
   "execution_count": 33,
   "metadata": {},
   "outputs": [
    {
     "name": "stdout",
     "output_type": "stream",
     "text": [
      "20/20 [==============================] - 7s 340ms/step - loss: 5.7500 - accuracy: 0.6250 - precision_6: 0.6250 - recall_6: 1.0000\n"
     ]
    },
    {
     "data": {
      "text/plain": [
       "[('loss', 5.7499646782875065),\n",
       " ('accuracy', 0.625),\n",
       " ('precision_6', 0.625),\n",
       " ('recall_6', 1.0)]"
      ]
     },
     "execution_count": 33,
     "metadata": {},
     "output_type": "execute_result"
    }
   ],
   "source": [
    "acc_1 = attempt_1.model.evaluate_generator(test_gen, steps=len(test_gen), verbose=1)\n",
    "list(zip(attempt_1.model.metrics_names,acc_1))"
   ]
  },
  {
   "cell_type": "markdown",
   "metadata": {},
   "source": [
    "The scores are better, but it is massively overfit it appears. Also, precision and accuracy having the same score, this might be buggy. "
   ]
  },
  {
   "cell_type": "code",
   "execution_count": 34,
   "metadata": {},
   "outputs": [],
   "source": [
    "def visualize_training_results(results):\n",
    "    history = results.history\n",
    "    plt.figure()\n",
    "    plt.plot(history['val_loss'])\n",
    "    plt.plot(history['loss'])\n",
    "    plt.legend(['val_loss', 'loss'])\n",
    "    plt.title('Loss')\n",
    "    plt.xlabel('Epochs')\n",
    "    plt.ylabel('Loss')\n",
    "    plt.show()\n",
    "    \n",
    "    plt.figure()\n",
    "    plt.plot(history['val_accuracy'])\n",
    "    plt.plot(history['accuracy'])\n",
    "    plt.legend(['val_accuracy', 'accuracy'])\n",
    "    plt.title('accuracy')\n",
    "    plt.xlabel('Epochs')\n",
    "    plt.ylabel('accuracy')\n",
    "    plt.show()"
   ]
  },
  {
   "cell_type": "code",
   "execution_count": 35,
   "metadata": {},
   "outputs": [
    {
     "data": {
      "image/png": "[encoded data removed]",
      "text/plain": [
       "<Figure size 432x288 with 1 Axes>"
      ]
     },
     "metadata": {
      "needs_background": "light"
     },
     "output_type": "display_data"
    },
    {
     "data": {
      "image/png": "[encoded data removed]",
      "text/plain": [
       "<Figure size 432x288 with 1 Axes>"
      ]
     },
     "metadata": {
      "needs_background": "light"
     },
     "output_type": "display_data"
    }
   ],
   "source": [
    "visualize_training_results(attempt_1)"
   ]
  },
  {
   "cell_type": "markdown",
   "metadata": {},
   "source": [
    "Something is clearly wrong, since the graph should not look like this. Lets keep going and see if we \n",
    "can figure out what's wrong"
   ]
  },
  {
   "cell_type": "code",
   "execution_count": 36,
   "metadata": {},
   "outputs": [],
   "source": [
    "\n",
    "attempt_2 = Sequential() \n",
    "attempt_2.add(Conv2D(32, (3, 3), activation='relu', padding='same', input_shape=(150, 150, 1))) \n",
    "attempt_2.add(MaxPooling2D((2, 2))) \n",
    "attempt_2.add(Flatten()) \n",
    "attempt_2.add(Dense(75, activation='relu'))\n",
    "attempt_2.add(Dense(50, activation='relu'))\n",
    "attempt_2.add(Dense(1, activation='softmax'))\n",
    "\n",
    "attempt_2.compile(loss='binary_crossentropy',\n",
    "              optimizer='sgd',\n",
    "              metrics=['Accuracy',\n",
    "            tf.keras.metrics.Precision(),\n",
    "            tf.keras.metrics.Recall()])"
   ]
  },
  {
   "cell_type": "markdown",
   "metadata": {},
   "source": [
    "I changed the acivations tanh to relu. I also changed the optimizer to sgd and removed a dense layer. \n",
    "Obviously, in normal cases, one should not change multiple parameters, since it would make figuring out\n",
    "what is wrong a guessing game, but I wanted to see if anything changed since it appeared my model was \n",
    "bugged. \n"
   ]
  },
  {
   "cell_type": "code",
   "execution_count": 37,
   "metadata": {},
   "outputs": [],
   "source": [
    "steps_per_epoch = len(train_gen)\n",
    "validation_steps = len(val_gen)"
   ]
  },
  {
   "cell_type": "code",
   "execution_count": 38,
   "metadata": {},
   "outputs": [
    {
     "name": "stdout",
     "output_type": "stream",
     "text": [
      "Epoch 1/10\n",
      "164/164 [==============================] - 103s 629ms/step - loss: 4.0082 - accuracy: 0.7430 - precision_7: 0.7430 - recall_7: 1.0000 - val_loss: 7.6666 - val_accuracy: 0.5000 - val_precision_7: 0.5000 - val_recall_7: 1.0000\n",
      "Epoch 2/10\n",
      "164/164 [==============================] - 82s 498ms/step - loss: 3.9182 - accuracy: 0.7430 - precision_7: 0.7430 - recall_7: 1.0000 - val_loss: 7.6666 - val_accuracy: 0.5000 - val_precision_7: 0.5000 - val_recall_7: 1.0000\n",
      "Epoch 3/10\n",
      "164/164 [==============================] - 84s 512ms/step - loss: 3.9182 - accuracy: 0.7430 - precision_7: 0.7430 - recall_7: 1.0000 - val_loss: 7.6666 - val_accuracy: 0.5000 - val_precision_7: 0.5000 - val_recall_7: 1.0000\n",
      "Epoch 4/10\n",
      "164/164 [==============================] - 81s 493ms/step - loss: 3.9182 - accuracy: 0.7430 - precision_7: 0.7430 - recall_7: 1.0000 - val_loss: 7.6666 - val_accuracy: 0.5000 - val_precision_7: 0.5000 - val_recall_7: 1.0000\n",
      "Epoch 5/10\n",
      "164/164 [==============================] - 80s 489ms/step - loss: 3.9182 - accuracy: 0.7430 - precision_7: 0.7430 - recall_7: 1.0000 - val_loss: 7.6666 - val_accuracy: 0.5000 - val_precision_7: 0.5000 - val_recall_7: 1.0000\n",
      "Epoch 6/10\n",
      "164/164 [==============================] - 82s 500ms/step - loss: 3.9182 - accuracy: 0.7430 - precision_7: 0.7430 - recall_7: 1.0000 - val_loss: 7.6666 - val_accuracy: 0.5000 - val_precision_7: 0.5000 - val_recall_7: 1.0000\n",
      "Epoch 7/10\n",
      "164/164 [==============================] - 81s 492ms/step - loss: 3.9182 - accuracy: 0.7430 - precision_7: 0.7430 - recall_7: 1.0000 - val_loss: 7.6666 - val_accuracy: 0.5000 - val_precision_7: 0.5000 - val_recall_7: 1.0000\n",
      "Epoch 8/10\n",
      "164/164 [==============================] - 81s 491ms/step - loss: 3.9182 - accuracy: 0.7430 - precision_7: 0.7430 - recall_7: 1.0000 - val_loss: 7.6666 - val_accuracy: 0.5000 - val_precision_7: 0.5000 - val_recall_7: 1.0000\n",
      "Epoch 9/10\n",
      "164/164 [==============================] - 81s 494ms/step - loss: 3.9182 - accuracy: 0.7430 - precision_7: 0.7430 - recall_7: 1.0000 - val_loss: 7.6666 - val_accuracy: 0.5000 - val_precision_7: 0.5000 - val_recall_7: 1.0000\n",
      "Epoch 10/10\n",
      "164/164 [==============================] - 82s 501ms/step - loss: 4.0082 - accuracy: 0.7430 - precision_7: 0.7430 - recall_7: 1.0000 - val_loss: 7.6666 - val_accuracy: 0.5000 - val_precision_7: 0.5000 - val_recall_7: 1.0000\n"
     ]
    }
   ],
   "source": [
    "attempt_2 = attempt_2.fit_generator(\n",
    "        train_gen,\n",
    "        validation_data = val_gen,\n",
    "        validation_steps = validation_steps,\n",
    "        epochs=10)"
   ]
  },
  {
   "cell_type": "code",
   "execution_count": 39,
   "metadata": {},
   "outputs": [
    {
     "name": "stdout",
     "output_type": "stream",
     "text": [
      "20/20 [==============================] - 7s 342ms/step - loss: 5.7739 - accuracy: 0.6250 - precision_7: 0.6250 - recall_7: 1.0000\n"
     ]
    },
    {
     "data": {
      "text/plain": [
       "[('loss', 5.773922872543335),\n",
       " ('accuracy', 0.625),\n",
       " ('precision_7', 0.625),\n",
       " ('recall_7', 1.0)]"
      ]
     },
     "execution_count": 39,
     "metadata": {},
     "output_type": "execute_result"
    }
   ],
   "source": [
    "acc_2 = attempt_2.model.evaluate_generator(test_gen, steps=len(test_gen), verbose=1)\n",
    "list(zip(attempt_2.model.metrics_names,acc_2))"
   ]
  },
  {
   "cell_type": "markdown",
   "metadata": {},
   "source": [
    "As you can see, nothing changed. This is indicative of a systemic issue. "
   ]
  },
  {
   "cell_type": "code",
   "execution_count": 40,
   "metadata": {},
   "outputs": [],
   "source": [
    "def visualize_training_results(results):\n",
    "    history = results.history\n",
    "    plt.figure()\n",
    "    plt.plot(history['val_loss'])\n",
    "    plt.plot(history['loss'])\n",
    "    plt.legend(['val_loss', 'loss'])\n",
    "    plt.title('Loss')\n",
    "    plt.xlabel('Epochs')\n",
    "    plt.ylabel('Loss')\n",
    "    plt.show()\n",
    "    \n",
    "    plt.figure()\n",
    "    plt.plot(history['val_accuracy'])\n",
    "    plt.plot(history['accuracy'])\n",
    "    plt.legend(['val_accuracy', 'accuracy'])\n",
    "    plt.title('accuracy')\n",
    "    plt.xlabel('Epochs')\n",
    "    plt.ylabel('accuracy')\n",
    "    plt.show()"
   ]
  },
  {
   "cell_type": "code",
   "execution_count": 41,
   "metadata": {},
   "outputs": [
    {
     "data": {
      "image/png": "[encoded data removed]",
      "text/plain": [
       "<Figure size 432x288 with 1 Axes>"
      ]
     },
     "metadata": {
      "needs_background": "light"
     },
     "output_type": "display_data"
    },
    {
     "data": {
      "image/png": "[encoded data removed]",
      "text/plain": [
       "<Figure size 432x288 with 1 Axes>"
      ]
     },
     "metadata": {
      "needs_background": "light"
     },
     "output_type": "display_data"
    }
   ],
   "source": [
    "visualize_training_results(attempt_2)"
   ]
  },
  {
   "cell_type": "markdown",
   "metadata": {},
   "source": [
    "Graph looks the same, lets keep playing with it and see if we can figure something out.  "
   ]
  },
  {
   "cell_type": "code",
   "execution_count": 43,
   "metadata": {},
   "outputs": [],
   "source": [
    "\n",
    "attempt_3 = Sequential() \n",
    "attempt_3.add(Conv2D(32, (3, 3), activation='relu', padding='same', input_shape=(150, 150, 1))) \n",
    "attempt_3.add(Flatten()) \n",
    "attempt_3.add(Dense(25, activation='relu'))\n",
    "attempt_3.add(Dense(10, activation='relu'))\n",
    "attempt_3.add(Dense(1, activation='softmax'))\n",
    "\n",
    "attempt_3.compile(loss='binary_crossentropy',\n",
    "              optimizer='sgd',\n",
    "              metrics=['Accuracy',\n",
    "            tf.keras.metrics.Precision(),\n",
    "            tf.keras.metrics.Recall()])"
   ]
  },
  {
   "cell_type": "markdown",
   "metadata": {},
   "source": [
    "Here I removed the Maxpooling layer, and tried to lessen the number of units. "
   ]
  },
  {
   "cell_type": "code",
   "execution_count": 44,
   "metadata": {},
   "outputs": [],
   "source": [
    "steps_per_epoch = len(train_gen)\n",
    "validation_steps = len(val_gen)"
   ]
  },
  {
   "cell_type": "code",
   "execution_count": 45,
   "metadata": {},
   "outputs": [
    {
     "name": "stdout",
     "output_type": "stream",
     "text": [
      "Epoch 1/10\n",
      "164/164 [==============================] - 81s 494ms/step - loss: 3.9182 - accuracy: 0.7430 - precision_9: 0.7430 - recall_9: 1.0000 - val_loss: 7.6666 - val_accuracy: 0.5000 - val_precision_9: 0.5000 - val_recall_9: 1.0000\n",
      "Epoch 2/10\n",
      "164/164 [==============================] - 77s 469ms/step - loss: 3.9182 - accuracy: 0.7430 - precision_9: 0.7430 - recall_9: 1.0000 - val_loss: 7.6666 - val_accuracy: 0.5000 - val_precision_9: 0.5000 - val_recall_9: 1.0000\n",
      "Epoch 3/10\n",
      "164/164 [==============================] - 77s 472ms/step - loss: 3.9182 - accuracy: 0.7430 - precision_9: 0.7430 - recall_9: 1.0000 - val_loss: 7.6666 - val_accuracy: 0.5000 - val_precision_9: 0.5000 - val_recall_9: 1.0000\n",
      "Epoch 4/10\n",
      "164/164 [==============================] - 76s 463ms/step - loss: 3.9182 - accuracy: 0.7430 - precision_9: 0.7430 - recall_9: 1.0000 - val_loss: 7.6666 - val_accuracy: 0.5000 - val_precision_9: 0.5000 - val_recall_9: 1.0000\n",
      "Epoch 5/10\n",
      "164/164 [==============================] - 76s 461ms/step - loss: 3.9182 - accuracy: 0.7430 - precision_9: 0.7430 - recall_9: 1.0000 - val_loss: 7.6666 - val_accuracy: 0.5000 - val_precision_9: 0.5000 - val_recall_9: 1.0000\n",
      "Epoch 6/10\n",
      "164/164 [==============================] - 75s 455ms/step - loss: 3.9182 - accuracy: 0.7430 - precision_9: 0.7430 - recall_9: 1.0000 - val_loss: 7.6666 - val_accuracy: 0.5000 - val_precision_9: 0.5000 - val_recall_9: 1.0000\n",
      "Epoch 7/10\n",
      "164/164 [==============================] - 86s 524ms/step - loss: 3.9182 - accuracy: 0.7430 - precision_9: 0.7430 - recall_9: 1.0000 - val_loss: 7.6666 - val_accuracy: 0.5000 - val_precision_9: 0.5000 - val_recall_9: 1.0000\n",
      "Epoch 8/10\n",
      "164/164 [==============================] - 93s 569ms/step - loss: 4.0082 - accuracy: 0.7430 - precision_9: 0.7430 - recall_9: 1.0000 - val_loss: 7.6666 - val_accuracy: 0.5000 - val_precision_9: 0.5000 - val_recall_9: 1.0000\n",
      "Epoch 9/10\n",
      "164/164 [==============================] - 77s 468ms/step - loss: 3.9182 - accuracy: 0.7430 - precision_9: 0.7430 - recall_9: 1.0000 - val_loss: 7.6666 - val_accuracy: 0.5000 - val_precision_9: 0.5000 - val_recall_9: 1.0000\n",
      "Epoch 10/10\n",
      "164/164 [==============================] - 76s 461ms/step - loss: 4.0082 - accuracy: 0.7430 - precision_9: 0.7430 - recall_9: 1.0000 - val_loss: 7.6666 - val_accuracy: 0.5000 - val_precision_9: 0.5000 - val_recall_9: 1.0000\n"
     ]
    }
   ],
   "source": [
    "attempt_3 = attempt_3.fit_generator(\n",
    "        train_gen,\n",
    "        validation_data = val_gen,\n",
    "        validation_steps = validation_steps,\n",
    "        epochs=10)"
   ]
  },
  {
   "cell_type": "code",
   "execution_count": 46,
   "metadata": {},
   "outputs": [
    {
     "name": "stdout",
     "output_type": "stream",
     "text": [
      "20/20 [==============================] - 6s 320ms/step - loss: 5.7020 - accuracy: 0.6250 - precision_9: 0.6250 - recall_9: 1.0000\n"
     ]
    },
    {
     "data": {
      "text/plain": [
       "[('loss', 5.702048182487488),\n",
       " ('accuracy', 0.625),\n",
       " ('precision_9', 0.625),\n",
       " ('recall_9', 1.0)]"
      ]
     },
     "execution_count": 46,
     "metadata": {},
     "output_type": "execute_result"
    }
   ],
   "source": [
    "acc_3 = attempt_3.model.evaluate_generator(test_gen, steps=len(test_gen), verbose=1)\n",
    "list(zip(attempt_3.model.metrics_names,acc_3))"
   ]
  },
  {
   "cell_type": "code",
   "execution_count": 47,
   "metadata": {},
   "outputs": [],
   "source": [
    "def visualize_training_results(results):\n",
    "    history = results.history\n",
    "    plt.figure()\n",
    "    plt.plot(history['val_loss'])\n",
    "    plt.plot(history['loss'])\n",
    "    plt.legend(['val_loss', 'loss'])\n",
    "    plt.title('Loss')\n",
    "    plt.xlabel('Epochs')\n",
    "    plt.ylabel('Loss')\n",
    "    plt.show()\n",
    "    \n",
    "    plt.figure()\n",
    "    plt.plot(history['val_accuracy'])\n",
    "    plt.plot(history['accuracy'])\n",
    "    plt.legend(['val_accuracy', 'accuracy'])\n",
    "    plt.title('accuracy')\n",
    "    plt.xlabel('Epochs')\n",
    "    plt.ylabel('accuracy')\n",
    "    plt.show()"
   ]
  },
  {
   "cell_type": "code",
   "execution_count": 48,
   "metadata": {},
   "outputs": [
    {
     "data": {
      "image/png": "[encoded data removed]",
      "text/plain": [
       "<Figure size 432x288 with 1 Axes>"
      ]
     },
     "metadata": {
      "needs_background": "light"
     },
     "output_type": "display_data"
    },
    {
     "data": {
      "image/png": "[encoded data removed]",
      "text/plain": [
       "<Figure size 432x288 with 1 Axes>"
      ]
     },
     "metadata": {
      "needs_background": "light"
     },
     "output_type": "display_data"
    }
   ],
   "source": [
    "visualize_training_results(attempt_3)"
   ]
  },
  {
   "cell_type": "markdown",
   "metadata": {},
   "source": [
    "It's bugged. "
   ]
  },
  {
   "cell_type": "code",
   "execution_count": 53,
   "metadata": {},
   "outputs": [],
   "source": [
    "\n",
    "\n",
    "attempt_4 = Sequential() \n",
    "attempt_4.add(Conv2D(32, (3, 3), activation='relu', padding='same', input_shape=(150, 150, 1))) \n",
    "attempt_4.add(Flatten()) \n",
    "attempt_4.add(Dense(50, kernel_regularizer=regularizers.l2(0.001), activation='relu'))\n",
    "attempt_4.add(Dense(10, kernel_regularizer=regularizers.l2(0.001), activation='relu'))\n",
    "attempt_4.add(Dense(1, activation='softmax'))\n",
    "\n",
    "attempt_4.compile(loss='binary_crossentropy',\n",
    "              optimizer='sgd',\n",
    "              metrics=['Accuracy',\n",
    "            tf.keras.metrics.Precision(),\n",
    "            tf.keras.metrics.Recall()])"
   ]
  },
  {
   "cell_type": "code",
   "execution_count": 54,
   "metadata": {},
   "outputs": [],
   "source": [
    "steps_per_epoch = len(train_gen)\n",
    "validation_steps = len(val_gen)"
   ]
  },
  {
   "cell_type": "code",
   "execution_count": 55,
   "metadata": {},
   "outputs": [
    {
     "name": "stdout",
     "output_type": "stream",
     "text": [
      "Epoch 1/10\n",
      "164/164 [==============================] - 109s 665ms/step - loss: 4.0342 - accuracy: 0.7430 - precision_10: 0.7430 - recall_10: 1.0000 - val_loss: 7.7822 - val_accuracy: 0.5000 - val_precision_10: 0.5000 - val_recall_10: 1.0000\n",
      "Epoch 2/10\n",
      "164/164 [==============================] - 112s 680ms/step - loss: 4.1234 - accuracy: 0.7430 - precision_10: 0.7430 - recall_10: 1.0000 - val_loss: 7.7815 - val_accuracy: 0.5000 - val_precision_10: 0.5000 - val_recall_10: 1.0000\n",
      "Epoch 3/10\n",
      "164/164 [==============================] - 117s 711ms/step - loss: 4.0326 - accuracy: 0.7430 - precision_10: 0.7430 - recall_10: 1.0000 - val_loss: 7.7807 - val_accuracy: 0.5000 - val_precision_10: 0.5000 - val_recall_10: 1.0000\n",
      "Epoch 4/10\n",
      "164/164 [==============================] - 115s 699ms/step - loss: 4.1219 - accuracy: 0.7430 - precision_10: 0.7430 - recall_10: 1.0000 - val_loss: 7.7800 - val_accuracy: 0.5000 - val_precision_10: 0.5000 - val_recall_10: 1.0000\n",
      "Epoch 5/10\n",
      "164/164 [==============================] - 116s 710ms/step - loss: 4.0312 - accuracy: 0.7430 - precision_10: 0.7430 - recall_10: 1.0000 - val_loss: 7.7792 - val_accuracy: 0.5000 - val_precision_10: 0.5000 - val_recall_10: 1.0000\n",
      "Epoch 6/10\n",
      "164/164 [==============================] - 128s 779ms/step - loss: 4.0304 - accuracy: 0.7430 - precision_10: 0.7430 - recall_10: 1.0000 - val_loss: 7.7785 - val_accuracy: 0.5000 - val_precision_10: 0.5000 - val_recall_10: 1.0000\n",
      "Epoch 7/10\n",
      "164/164 [==============================] - 113s 690ms/step - loss: 4.0297 - accuracy: 0.7430 - precision_10: 0.7430 - recall_10: 1.0000 - val_loss: 7.7778 - val_accuracy: 0.5000 - val_precision_10: 0.5000 - val_recall_10: 1.0000\n",
      "Epoch 8/10\n",
      "164/164 [==============================] - 111s 676ms/step - loss: 4.0290 - accuracy: 0.7430 - precision_10: 0.7430 - recall_10: 1.0000 - val_loss: 7.7770 - val_accuracy: 0.5000 - val_precision_10: 0.5000 - val_recall_10: 1.0000\n",
      "Epoch 9/10\n",
      "164/164 [==============================] - 101s 618ms/step - loss: 4.1183 - accuracy: 0.7430 - precision_10: 0.7430 - recall_10: 1.0000 - val_loss: 7.7763 - val_accuracy: 0.5000 - val_precision_10: 0.5000 - val_recall_10: 1.0000\n",
      "Epoch 10/10\n",
      "164/164 [==============================] - 104s 635ms/step - loss: 4.0275 - accuracy: 0.7430 - precision_10: 0.7430 - recall_10: 1.0000 - val_loss: 7.7756 - val_accuracy: 0.5000 - val_precision_10: 0.5000 - val_recall_10: 1.0000\n"
     ]
    }
   ],
   "source": [
    "attempt_4 = attempt_4.fit_generator(\n",
    "        train_gen,\n",
    "        validation_data = val_gen,\n",
    "        validation_steps = validation_steps,\n",
    "        epochs=10)"
   ]
  },
  {
   "cell_type": "code",
   "execution_count": 57,
   "metadata": {},
   "outputs": [
    {
     "name": "stdout",
     "output_type": "stream",
     "text": [
      "20/20 [==============================] - 8s 382ms/step - loss: 5.8110 - accuracy: 0.6250 - precision_10: 0.6250 - recall_10: 1.0000\n"
     ]
    },
    {
     "data": {
      "text/plain": [
       "[('loss', 5.811016464233399),\n",
       " ('accuracy', 0.625),\n",
       " ('precision_10', 0.625),\n",
       " ('recall_10', 1.0)]"
      ]
     },
     "execution_count": 57,
     "metadata": {},
     "output_type": "execute_result"
    }
   ],
   "source": [
    "acc_4 = attempt_4.model.evaluate_generator(test_gen, steps=len(test_gen), verbose=1)\n",
    "list(zip(attempt_4.model.metrics_names,acc_4))"
   ]
  },
  {
   "cell_type": "code",
   "execution_count": 58,
   "metadata": {},
   "outputs": [],
   "source": [
    "def visualize_training_results(results):\n",
    "    history = results.history\n",
    "    plt.figure()\n",
    "    plt.plot(history['val_loss'])\n",
    "    plt.plot(history['loss'])\n",
    "    plt.legend(['val_loss', 'loss'])\n",
    "    plt.title('Loss')\n",
    "    plt.xlabel('Epochs')\n",
    "    plt.ylabel('Loss')\n",
    "    plt.show()\n",
    "    \n",
    "    plt.figure()\n",
    "    plt.plot(history['val_accuracy'])\n",
    "    plt.plot(history['accuracy'])\n",
    "    plt.legend(['val_accuracy', 'accuracy'])\n",
    "    plt.title('accuracy')\n",
    "    plt.xlabel('Epochs')\n",
    "    plt.ylabel('accuracy')\n",
    "    plt.show()"
   ]
  },
  {
   "cell_type": "code",
   "execution_count": 59,
   "metadata": {},
   "outputs": [
    {
     "data": {
      "image/png": "[encoded data removed]",
      "text/plain": [
       "<Figure size 432x288 with 1 Axes>"
      ]
     },
     "metadata": {
      "needs_background": "light"
     },
     "output_type": "display_data"
    },
    {
     "data": {
      "image/png": "[encoded data removed]",
      "text/plain": [
       "<Figure size 432x288 with 1 Axes>"
      ]
     },
     "metadata": {
      "needs_background": "light"
     },
     "output_type": "display_data"
    }
   ],
   "source": [
    "visualize_training_results(attempt_4)"
   ]
  },
  {
   "cell_type": "code",
   "execution_count": 70,
   "metadata": {},
   "outputs": [],
   "source": [
    "\n",
    "attempt_5 = Sequential() \n",
    "attempt_5.add(MaxPooling2D (2, 2))\n",
    "attempt_5.add(Flatten()) \n",
    "attempt_5.add(Dense(50, kernel_regularizer=regularizers.l2(0.001), activation='relu',\n",
    "                    input_shape=(150, 150, 1)))\n",
    "attempt_5.add(Dropout(0.5))\n",
    "attempt_5.add(Dense(10, kernel_regularizer=regularizers.l2(0.001), activation='relu'))\n",
    "attempt_5.add(Dropout(0.5))\n",
    "attempt_5.add(Dense(1, activation='sigmoid'))\n",
    "\n",
    "attempt_5.compile(loss='binary_crossentropy',\n",
    "              optimizer='adam',\n",
    "              metrics=['Accuracy',\n",
    "            tf.keras.metrics.Precision(),\n",
    "            tf.keras.metrics.Recall()])"
   ]
  },
  {
   "cell_type": "code",
   "execution_count": 71,
   "metadata": {},
   "outputs": [],
   "source": [
    "steps_per_epoch = len(train_gen)\n",
    "validation_steps = len(val_gen)"
   ]
  },
  {
   "cell_type": "code",
   "execution_count": 72,
   "metadata": {},
   "outputs": [
    {
     "name": "stdout",
     "output_type": "stream",
     "text": [
      "Epoch 1/10\n",
      "164/164 [==============================] - 59s 362ms/step - loss: 77.3285 - accuracy: 0.2687 - precision_11: 0.7436 - recall_11: 0.7529 - val_loss: 0.7867 - val_accuracy: 0.0000e+00 - val_precision_11: 0.5000 - val_recall_11: 1.0000\n",
      "Epoch 2/10\n",
      "164/164 [==============================] - 55s 335ms/step - loss: 0.7346 - accuracy: 0.0000e+00 - precision_11: 0.7357 - recall_11: 1.0000 - val_loss: 0.7938 - val_accuracy: 0.0000e+00 - val_precision_11: 0.5000 - val_recall_11: 1.0000\n",
      "Epoch 3/10\n",
      "164/164 [==============================] - 62s 378ms/step - loss: 0.7127 - accuracy: 0.0000e+00 - precision_11: 0.7380 - recall_11: 1.0000 - val_loss: 0.8044 - val_accuracy: 0.0000e+00 - val_precision_11: 0.5000 - val_recall_11: 1.0000\n",
      "Epoch 4/10\n",
      "164/164 [==============================] - 61s 369ms/step - loss: 0.6939 - accuracy: 0.0000e+00 - precision_11: 0.7408 - recall_11: 1.0000 - val_loss: 0.8171 - val_accuracy: 0.0000e+00 - val_precision_11: 0.5000 - val_recall_11: 1.0000\n",
      "Epoch 5/10\n",
      "164/164 [==============================] - 62s 380ms/step - loss: 0.6817 - accuracy: 0.0000e+00 - precision_11: 0.7456 - recall_11: 1.0000 - val_loss: 0.8304 - val_accuracy: 0.0000e+00 - val_precision_11: 0.5000 - val_recall_11: 1.0000\n",
      "Epoch 6/10\n",
      "164/164 [==============================] - 60s 369ms/step - loss: 0.6771 - accuracy: 0.0000e+00 - precision_11: 0.7306 - recall_11: 1.0000 - val_loss: 0.8427 - val_accuracy: 0.0000e+00 - val_precision_11: 0.5000 - val_recall_11: 1.0000\n",
      "Epoch 7/10\n",
      "164/164 [==============================] - 63s 384ms/step - loss: 0.6672 - accuracy: 0.0000e+00 - precision_11: 0.7403 - recall_11: 1.0000 - val_loss: 0.8550 - val_accuracy: 0.0000e+00 - val_precision_11: 0.5000 - val_recall_11: 1.0000\n",
      "Epoch 8/10\n",
      "164/164 [==============================] - 56s 343ms/step - loss: 0.6630 - accuracy: 0.0000e+00 - precision_11: 0.7488 - recall_11: 1.0000 - val_loss: 0.8663 - val_accuracy: 0.0000e+00 - val_precision_11: 0.5000 - val_recall_11: 1.0000\n",
      "Epoch 9/10\n",
      "164/164 [==============================] - 58s 352ms/step - loss: 0.6652 - accuracy: 0.0000e+00 - precision_11: 0.7328 - recall_11: 1.0000 - val_loss: 0.8747 - val_accuracy: 0.0000e+00 - val_precision_11: 0.5000 - val_recall_11: 1.0000\n",
      "Epoch 10/10\n",
      "164/164 [==============================] - 58s 356ms/step - loss: 0.6582 - accuracy: 0.0000e+00 - precision_11: 0.7449 - recall_11: 1.0000 - val_loss: 0.8837 - val_accuracy: 0.0000e+00 - val_precision_11: 0.5000 - val_recall_11: 1.0000\n"
     ]
    }
   ],
   "source": [
    "attempt_5 = attempt_5.fit_generator(\n",
    "        train_gen,\n",
    "        validation_data = val_gen,\n",
    "        validation_steps = validation_steps,\n",
    "        epochs=10)"
   ]
  },
  {
   "cell_type": "code",
   "execution_count": 74,
   "metadata": {},
   "outputs": [
    {
     "name": "stdout",
     "output_type": "stream",
     "text": [
      "20/20 [==============================] - 5s 257ms/step - loss: 0.7651 - accuracy: 0.0000e+00 - precision_11: 0.6250 - recall_11: 1.0000\n"
     ]
    },
    {
     "data": {
      "text/plain": [
       "[('loss', 0.765061566233635),\n",
       " ('accuracy', 0.0),\n",
       " ('precision_11', 0.625),\n",
       " ('recall_11', 1.0)]"
      ]
     },
     "execution_count": 74,
     "metadata": {},
     "output_type": "execute_result"
    }
   ],
   "source": [
    "acc_5 = attempt_5.model.evaluate_generator(test_gen, steps=len(test_gen), verbose=1)\n",
    "list(zip(attempt_5.model.metrics_names,acc_5))"
   ]
  },
  {
   "cell_type": "code",
   "execution_count": 75,
   "metadata": {},
   "outputs": [],
   "source": [
    "def visualize_training_results(results):\n",
    "    history = results.history\n",
    "    plt.figure()\n",
    "    plt.plot(history['val_loss'])\n",
    "    plt.plot(history['loss'])\n",
    "    plt.legend(['val_loss', 'loss'])\n",
    "    plt.title('Loss')\n",
    "    plt.xlabel('Epochs')\n",
    "    plt.ylabel('Loss')\n",
    "    plt.show()\n",
    "    \n",
    "    plt.figure()\n",
    "    plt.plot(history['val_accuracy'])\n",
    "    plt.plot(history['accuracy'])\n",
    "    plt.legend(['val_accuracy', 'accuracy'])\n",
    "    plt.title('accuracy')\n",
    "    plt.xlabel('Epochs')\n",
    "    plt.ylabel('accuracy')\n",
    "    plt.show()"
   ]
  },
  {
   "cell_type": "code",
   "execution_count": 76,
   "metadata": {},
   "outputs": [
    {
     "data": {
      "image/png": "[encoded data removed]",
      "text/plain": [
       "<Figure size 432x288 with 1 Axes>"
      ]
     },
     "metadata": {
      "needs_background": "light"
     },
     "output_type": "display_data"
    },
    {
     "data": {
      "image/png": "[encoded data removed]",
      "text/plain": [
       "<Figure size 432x288 with 1 Axes>"
      ]
     },
     "metadata": {
      "needs_background": "light"
     },
     "output_type": "display_data"
    }
   ],
   "source": [
    "visualize_training_results(attempt_5)"
   ]
  },
  {
   "cell_type": "code",
   "execution_count": 77,
   "metadata": {},
   "outputs": [],
   "source": [
    "\n",
    "attempt_6 = Sequential() \n",
    "attempt_6.add(MaxPooling2D (2, 2))\n",
    "attempt_6.add(Flatten()) \n",
    "attempt_6.add(Dense(25, kernel_regularizer=regularizers.l2(0.001), activation='tanh',\n",
    "                    input_shape=(150, 150, 1)))\n",
    "attempt_6.add(Dropout(0.5))\n",
    "attempt_6.add(Dense(10, kernel_regularizer=regularizers.l2(0.001), activation='tanh'))\n",
    "attempt_6.add(Dropout(0.5))\n",
    "attempt_6.add(Dense(1, activation='softmax'))\n",
    "\n",
    "attempt_6.compile(loss='binary_crossentropy',\n",
    "              optimizer='adam',\n",
    "              metrics=['Accuracy',\n",
    "            tf.keras.metrics.Precision(),\n",
    "            tf.keras.metrics.Recall()])"
   ]
  },
  {
   "cell_type": "code",
   "execution_count": 79,
   "metadata": {},
   "outputs": [],
   "source": [
    "steps_per_epoch = len(train_gen)\n",
    "validation_steps = len(val_gen)"
   ]
  },
  {
   "cell_type": "code",
   "execution_count": 81,
   "metadata": {},
   "outputs": [
    {
     "name": "stdout",
     "output_type": "stream",
     "text": [
      "Epoch 1/10\n",
      "164/164 [==============================] - 58s 353ms/step - loss: 3.9285 - accuracy: 0.7487 - precision_12: 0.7487 - recall_12: 1.0000 - val_loss: 7.6702 - val_accuracy: 0.5000 - val_precision_12: 0.5000 - val_recall_12: 1.0000\n",
      "Epoch 2/10\n",
      "164/164 [==============================] - 56s 342ms/step - loss: 3.9201 - accuracy: 0.7385 - precision_12: 0.7385 - recall_12: 1.0000 - val_loss: 7.6674 - val_accuracy: 0.5000 - val_precision_12: 0.5000 - val_recall_12: 1.0000\n",
      "Epoch 3/10\n",
      "164/164 [==============================] - 58s 356ms/step - loss: 3.9186 - accuracy: 0.7376 - precision_12: 0.7376 - recall_12: 1.0000 - val_loss: 7.6668 - val_accuracy: 0.5000 - val_precision_12: 0.5000 - val_recall_12: 1.0000\n",
      "Epoch 4/10\n",
      "164/164 [==============================] - 56s 339ms/step - loss: 3.9182 - accuracy: 0.7459 - precision_12: 0.7459 - recall_12: 1.0000 - val_loss: 7.6666 - val_accuracy: 0.5000 - val_precision_12: 0.5000 - val_recall_12: 1.0000\n",
      "Epoch 5/10\n",
      "164/164 [==============================] - 62s 378ms/step - loss: 3.9182 - accuracy: 0.7440 - precision_12: 0.7440 - recall_12: 1.0000 - val_loss: 7.6666 - val_accuracy: 0.5000 - val_precision_12: 0.5000 - val_recall_12: 1.0000\n",
      "Epoch 6/10\n",
      "164/164 [==============================] - 59s 358ms/step - loss: 4.0082 - accuracy: 0.7322 - precision_12: 0.7322 - recall_12: 1.0000 - val_loss: 7.6666 - val_accuracy: 0.5000 - val_precision_12: 0.5000 - val_recall_12: 1.0000\n",
      "Epoch 7/10\n",
      "164/164 [==============================] - 62s 377ms/step - loss: 3.9182 - accuracy: 0.7337 - precision_12: 0.7337 - recall_12: 1.0000 - val_loss: 7.6666 - val_accuracy: 0.5000 - val_precision_12: 0.5000 - val_recall_12: 1.0000\n",
      "Epoch 8/10\n",
      "164/164 [==============================] - 62s 381ms/step - loss: 3.9182 - accuracy: 0.7497 - precision_12: 0.7497 - recall_12: 1.0000 - val_loss: 7.6666 - val_accuracy: 0.5000 - val_precision_12: 0.5000 - val_recall_12: 1.0000\n",
      "Epoch 9/10\n",
      "164/164 [==============================] - 59s 361ms/step - loss: 4.0082 - accuracy: 0.7440 - precision_12: 0.7440 - recall_12: 1.0000 - val_loss: 7.6666 - val_accuracy: 0.5000 - val_precision_12: 0.5000 - val_recall_12: 1.0000\n",
      "Epoch 10/10\n",
      "164/164 [==============================] - 55s 334ms/step - loss: 3.9182 - accuracy: 0.7406 - precision_12: 0.7406 - recall_12: 1.0000 - val_loss: 7.6666 - val_accuracy: 0.5000 - val_precision_12: 0.5000 - val_recall_12: 1.0000\n"
     ]
    }
   ],
   "source": [
    "attempt_6 = attempt_6.fit_generator(\n",
    "        train_gen,\n",
    "        validation_data = val_gen,\n",
    "        validation_steps = validation_steps,\n",
    "        epochs=10)"
   ]
  },
  {
   "cell_type": "code",
   "execution_count": 82,
   "metadata": {},
   "outputs": [
    {
     "name": "stdout",
     "output_type": "stream",
     "text": [
      "20/20 [==============================] - 6s 287ms/step - loss: 5.7020 - accuracy: 0.6250 - precision_12: 0.6250 - recall_12: 1.0000\n"
     ]
    },
    {
     "data": {
      "text/plain": [
       "[('loss', 5.702048277854919),\n",
       " ('accuracy', 0.625),\n",
       " ('precision_12', 0.625),\n",
       " ('recall_12', 1.0)]"
      ]
     },
     "execution_count": 82,
     "metadata": {},
     "output_type": "execute_result"
    }
   ],
   "source": [
    "acc_6 = attempt_6.model.evaluate_generator(test_gen, steps=len(test_gen), verbose=1)\n",
    "list(zip(attempt_6.model.metrics_names,acc_6))"
   ]
  },
  {
   "cell_type": "code",
   "execution_count": 87,
   "metadata": {},
   "outputs": [],
   "source": [
    "def visualize_training_results(results):\n",
    "    history = results.history\n",
    "    plt.figure()\n",
    "    plt.plot(history['val_loss'])\n",
    "    plt.plot(history['loss'])\n",
    "    plt.legend(['val_loss', 'loss'])\n",
    "    plt.title('Loss')\n",
    "    plt.xlabel('Epochs')\n",
    "    plt.ylabel('Loss')\n",
    "    plt.show()\n",
    "    \n",
    "    plt.figure()\n",
    "    plt.plot(history['val_accuracy'])\n",
    "    plt.plot(history['accuracy'])\n",
    "    plt.legend(['val_accuracy', 'accuracy'])\n",
    "    plt.title('accuracy')\n",
    "    plt.xlabel('Epochs')\n",
    "    plt.ylabel('accuracy')\n",
    "    plt.show()"
   ]
  },
  {
   "cell_type": "code",
   "execution_count": 88,
   "metadata": {},
   "outputs": [
    {
     "data": {
      "image/png": "[encoded data removed]",
      "text/plain": [
       "<Figure size 432x288 with 1 Axes>"
      ]
     },
     "metadata": {
      "needs_background": "light"
     },
     "output_type": "display_data"
    },
    {
     "data": {
      "image/png": "[encoded data removed]",
      "text/plain": [
       "<Figure size 432x288 with 1 Axes>"
      ]
     },
     "metadata": {
      "needs_background": "light"
     },
     "output_type": "display_data"
    }
   ],
   "source": [
    "visualize_training_results(attempt_6)"
   ]
  },
  {
   "cell_type": "code",
   "execution_count": 83,
   "metadata": {},
   "outputs": [],
   "source": [
    "\n",
    "attempt_7 = Sequential() \n",
    "attempt_7.add(MaxPooling2D (2, 2))\n",
    "attempt_7.add(Flatten()) \n",
    "attempt_7.add(Dense(25, kernel_regularizer=regularizers.l2(0.001), activation='relu',\n",
    "                    input_shape=(150, 150, 1)))\n",
    "attempt_7.add(Dropout(0.5))\n",
    "attempt_7.add(Dense(10, kernel_regularizer=regularizers.l2(0.001), activation='relu'))\n",
    "attempt_7.add(Dropout(0.5))\n",
    "attempt_7.add(Dense(1, activation='softmax'))\n",
    "\n",
    "attempt_7.compile(loss='binary_crossentropy',\n",
    "              optimizer='adam',\n",
    "              metrics=['Accuracy',\n",
    "            tf.keras.metrics.Precision(),\n",
    "            tf.keras.metrics.Recall()])"
   ]
  },
  {
   "cell_type": "code",
   "execution_count": 84,
   "metadata": {},
   "outputs": [],
   "source": [
    "steps_per_epoch = len(train_gen)\n",
    "validation_steps = len(val_gen)"
   ]
  },
  {
   "cell_type": "code",
   "execution_count": 85,
   "metadata": {},
   "outputs": [
    {
     "name": "stdout",
     "output_type": "stream",
     "text": [
      "Epoch 1/10\n",
      "164/164 [==============================] - 56s 344ms/step - loss: 3.9290 - accuracy: 0.7457 - precision_13: 0.7457 - recall_13: 1.0000 - val_loss: 7.6704 - val_accuracy: 0.5000 - val_precision_13: 0.5000 - val_recall_13: 1.0000\n",
      "Epoch 2/10\n",
      "164/164 [==============================] - 52s 318ms/step - loss: 4.0102 - accuracy: 0.7344 - precision_13: 0.7344 - recall_13: 1.0000 - val_loss: 7.6675 - val_accuracy: 0.5000 - val_precision_13: 0.5000 - val_recall_13: 1.0000\n",
      "Epoch 3/10\n",
      "164/164 [==============================] - 53s 323ms/step - loss: 3.9186 - accuracy: 0.7456 - precision_13: 0.7456 - recall_13: 1.0000 - val_loss: 7.6668 - val_accuracy: 0.5000 - val_precision_13: 0.5000 - val_recall_13: 1.0000\n",
      "Epoch 4/10\n",
      "164/164 [==============================] - 54s 329ms/step - loss: 3.9183 - accuracy: 0.7405 - precision_13: 0.7405 - recall_13: 1.0000 - val_loss: 7.6666 - val_accuracy: 0.5000 - val_precision_13: 0.5000 - val_recall_13: 1.0000\n",
      "Epoch 5/10\n",
      "164/164 [==============================] - 53s 325ms/step - loss: 3.9182 - accuracy: 0.7481 - precision_13: 0.7481 - recall_13: 1.0000 - val_loss: 7.6666 - val_accuracy: 0.5000 - val_precision_13: 0.5000 - val_recall_13: 1.0000\n",
      "Epoch 6/10\n",
      "164/164 [==============================] - 53s 324ms/step - loss: 3.9182 - accuracy: 0.7455 - precision_13: 0.7455 - recall_13: 1.0000 - val_loss: 7.6666 - val_accuracy: 0.5000 - val_precision_13: 0.5000 - val_recall_13: 1.0000\n",
      "Epoch 7/10\n",
      "164/164 [==============================] - 56s 339ms/step - loss: 3.9182 - accuracy: 0.7434 - precision_13: 0.7434 - recall_13: 1.0000 - val_loss: 7.6666 - val_accuracy: 0.5000 - val_precision_13: 0.5000 - val_recall_13: 1.0000\n",
      "Epoch 8/10\n",
      "164/164 [==============================] - 55s 333ms/step - loss: 4.0082 - accuracy: 0.7395 - precision_13: 0.7395 - recall_13: 1.0000 - val_loss: 7.6666 - val_accuracy: 0.5000 - val_precision_13: 0.5000 - val_recall_13: 1.0000\n",
      "Epoch 9/10\n",
      "164/164 [==============================] - 56s 342ms/step - loss: 3.9182 - accuracy: 0.7406 - precision_13: 0.7406 - recall_13: 1.0000 - val_loss: 7.6666 - val_accuracy: 0.5000 - val_precision_13: 0.5000 - val_recall_13: 1.0000\n",
      "Epoch 10/10\n",
      "164/164 [==============================] - 53s 325ms/step - loss: 4.0082 - accuracy: 0.7385 - precision_13: 0.7385 - recall_13: 1.0000 - val_loss: 7.6666 - val_accuracy: 0.5000 - val_precision_13: 0.5000 - val_recall_13: 1.0000\n"
     ]
    }
   ],
   "source": [
    "attempt_7 = attempt_7.fit_generator(\n",
    "        train_gen,\n",
    "        validation_data = val_gen,\n",
    "        validation_steps = validation_steps,\n",
    "        epochs=10)"
   ]
  },
  {
   "cell_type": "code",
   "execution_count": 86,
   "metadata": {},
   "outputs": [
    {
     "name": "stdout",
     "output_type": "stream",
     "text": [
      "20/20 [==============================] - 6s 310ms/step - loss: 5.7020 - accuracy: 0.6250 - precision_13: 0.6250 - recall_13: 1.0000\n"
     ]
    },
    {
     "data": {
      "text/plain": [
       "[('loss', 5.702048277854919),\n",
       " ('accuracy', 0.625),\n",
       " ('precision_13', 0.625),\n",
       " ('recall_13', 1.0)]"
      ]
     },
     "execution_count": 86,
     "metadata": {},
     "output_type": "execute_result"
    }
   ],
   "source": [
    "acc_7 = attempt_7.model.evaluate_generator(test_gen, steps=len(test_gen), verbose=1)\n",
    "list(zip(attempt_7.model.metrics_names,acc_7))"
   ]
  },
  {
   "cell_type": "code",
   "execution_count": 89,
   "metadata": {},
   "outputs": [],
   "source": [
    "def visualize_training_results(results):\n",
    "    history = results.history\n",
    "    plt.figure()\n",
    "    plt.plot(history['val_loss'])\n",
    "    plt.plot(history['loss'])\n",
    "    plt.legend(['val_loss', 'loss'])\n",
    "    plt.title('Loss')\n",
    "    plt.xlabel('Epochs')\n",
    "    plt.ylabel('Loss')\n",
    "    plt.show()\n",
    "    \n",
    "    plt.figure()\n",
    "    plt.plot(history['val_accuracy'])\n",
    "    plt.plot(history['accuracy'])\n",
    "    plt.legend(['val_accuracy', 'accuracy'])\n",
    "    plt.title('accuracy')\n",
    "    plt.xlabel('Epochs')\n",
    "    plt.ylabel('accuracy')\n",
    "    plt.show()"
   ]
  },
  {
   "cell_type": "code",
   "execution_count": 90,
   "metadata": {},
   "outputs": [
    {
     "data": {
      "image/png": "[encoded data removed]",
      "text/plain": [
       "<Figure size 432x288 with 1 Axes>"
      ]
     },
     "metadata": {
      "needs_background": "light"
     },
     "output_type": "display_data"
    },
    {
     "data": {
      "image/png": "[encoded data removed]",
      "text/plain": [
       "<Figure size 432x288 with 1 Axes>"
      ]
     },
     "metadata": {
      "needs_background": "light"
     },
     "output_type": "display_data"
    }
   ],
   "source": [
    "visualize_training_results(attempt_7)"
   ]
  },
  {
   "cell_type": "code",
   "execution_count": null,
   "metadata": {},
   "outputs": [],
   "source": []
  }
 ],
 "metadata": {
  "kernelspec": {
   "display_name": "Mod4Project",
   "language": "python",
   "name": "mod4project"
  },
  "language_info": {
   "codemirror_mode": {
    "name": "ipython",
    "version": 3
   },
   "file_extension": ".py",
   "mimetype": "text/x-python",
   "name": "python",
   "nbconvert_exporter": "python",
   "pygments_lexer": "ipython3",
   "version": "3.7.7"
  }
 },
 "nbformat": 4,
 "nbformat_minor": 4
}
